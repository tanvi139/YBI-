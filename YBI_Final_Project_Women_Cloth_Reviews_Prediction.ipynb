{
  "metadata": {
    "kernelspec": {
      "language": "python",
      "display_name": "Python 3",
      "name": "python3"
    },
    "language_info": {
      "pygments_lexer": "ipython3",
      "nbconvert_exporter": "python",
      "version": "3.6.4",
      "file_extension": ".py",
      "codemirror_mode": {
        "name": "ipython",
        "version": 3
      },
      "name": "python",
      "mimetype": "text/x-python"
    },
    "colab": {
      "provenance": [],
      "include_colab_link": true
    }
  },
  "nbformat_minor": 0,
  "nbformat": 4,
  "cells": [
    {
      "cell_type": "markdown",
      "metadata": {
        "id": "view-in-github",
        "colab_type": "text"
      },
      "source": [
        "<a href=\"https://colab.research.google.com/github/tanvi139/YBI-/blob/main/YBI_Final_Project_Women_Cloth_Reviews_Prediction.ipynb\" target=\"_parent\"><img src=\"https://colab.research.google.com/assets/colab-badge.svg\" alt=\"Open In Colab\"/></a>"
      ]
    },
    {
      "cell_type": "markdown",
      "source": [
        "# Women Cloth Reviews Prediction with MultiNomial Naive Bayes\n",
        "---\n",
        "Multinomial Naïve Bayes algorithm is a probabilistic learning method that is mostly used in Natural Language Processing. It is also suitable for text classification with discrete feature. In this project it will be used to build a women cloth review prediction model.\n",
        "\n",
        "Data Source: [YBIFoundation/ProjectHub-MachineLearning Women Clothing Commerce Review dataset](https://raw.githubusercontent.com/YBIFoundation/ProjectHub-MachineLearning/main/Women%20Clothing%20E-Commerce%20Review.csv)"
      ],
      "metadata": {
        "id": "7SasgAjLGNxm"
      }
    },
    {
      "cell_type": "markdown",
      "source": [
        "### Importing Libraries"
      ],
      "metadata": {
        "id": "BmVAOk-yGNxo"
      }
    },
    {
      "cell_type": "code",
      "source": [
        "import pandas as pd\n",
        "import numpy as np\n",
        "import matplotlib.pyplot as plt\n",
        "import seaborn as sns"
      ],
      "metadata": {
        "_kg_hide-output": true,
        "_kg_hide-input": false,
        "execution": {
          "iopub.status.busy": "2023-07-15T13:49:35.303633Z",
          "iopub.execute_input": "2023-07-15T13:49:35.304296Z",
          "iopub.status.idle": "2023-07-15T13:49:35.310135Z",
          "shell.execute_reply.started": "2023-07-15T13:49:35.30424Z",
          "shell.execute_reply": "2023-07-15T13:49:35.309084Z"
        },
        "trusted": true,
        "id": "cp1filw4GNxp"
      },
      "execution_count": null,
      "outputs": []
    },
    {
      "cell_type": "markdown",
      "source": [
        "### Importing Dataset"
      ],
      "metadata": {
        "id": "744yfxOZGNxq"
      }
    },
    {
      "cell_type": "code",
      "source": [
        "df = pd.read_csv(\"https://raw.githubusercontent.com/YBIFoundation/ProjectHub-MachineLearning/main/Women%20Clothing%20E-Commerce%20Review.csv\")"
      ],
      "metadata": {
        "execution": {
          "iopub.status.busy": "2023-07-15T13:49:35.311785Z",
          "iopub.execute_input": "2023-07-15T13:49:35.312453Z",
          "iopub.status.idle": "2023-07-15T13:49:35.651289Z",
          "shell.execute_reply.started": "2023-07-15T13:49:35.312416Z",
          "shell.execute_reply": "2023-07-15T13:49:35.650374Z"
        },
        "trusted": true,
        "id": "DKWE85daGNxq"
      },
      "execution_count": null,
      "outputs": []
    },
    {
      "cell_type": "markdown",
      "source": [
        "### Data visualization\n",
        "\n",
        "Samples of the data is visualized to better understand how it is structured."
      ],
      "metadata": {
        "id": "_xWNMwz-GNxq"
      }
    },
    {
      "cell_type": "code",
      "source": [
        "df.head()"
      ],
      "metadata": {
        "execution": {
          "iopub.status.busy": "2023-07-15T13:49:35.652727Z",
          "iopub.execute_input": "2023-07-15T13:49:35.652984Z",
          "iopub.status.idle": "2023-07-15T13:49:35.668355Z",
          "shell.execute_reply.started": "2023-07-15T13:49:35.652963Z",
          "shell.execute_reply": "2023-07-15T13:49:35.667185Z"
        },
        "trusted": true,
        "id": "wjsPIjdDGNxr",
        "colab": {
          "base_uri": "https://localhost:8080/",
          "height": 310
        },
        "outputId": "728e901f-c562-4009-b08b-746d5004a26d"
      },
      "execution_count": null,
      "outputs": [
        {
          "output_type": "execute_result",
          "data": {
            "text/plain": [
              "   Clothing ID  Age                    Title  \\\n",
              "0          767   33                      NaN   \n",
              "1         1080   34                      NaN   \n",
              "2         1077   60  Some major design flaws   \n",
              "3         1049   50         My favorite buy!   \n",
              "4          847   47         Flattering shirt   \n",
              "\n",
              "                                              Review  Rating  Recommended  \\\n",
              "0  Absolutely wonderful - silky and sexy and comf...       4            1   \n",
              "1  Love this dress!  it's sooo pretty.  i happene...       5            1   \n",
              "2  I had such high hopes for this dress and reall...       3            0   \n",
              "3  I love, love, love this jumpsuit. it's fun, fl...       5            1   \n",
              "4  This shirt is very flattering to all due to th...       5            1   \n",
              "\n",
              "   Positive Feedback        Division Department   Category  \n",
              "0                  0       Initmates   Intimate  Intimates  \n",
              "1                  4         General    Dresses    Dresses  \n",
              "2                  0         General    Dresses    Dresses  \n",
              "3                  0  General Petite    Bottoms      Pants  \n",
              "4                  6         General       Tops    Blouses  "
            ],
            "text/html": [
              "\n",
              "  <div id=\"df-68c66deb-e80b-42c4-a08b-a21b2543f3f6\" class=\"colab-df-container\">\n",
              "    <div>\n",
              "<style scoped>\n",
              "    .dataframe tbody tr th:only-of-type {\n",
              "        vertical-align: middle;\n",
              "    }\n",
              "\n",
              "    .dataframe tbody tr th {\n",
              "        vertical-align: top;\n",
              "    }\n",
              "\n",
              "    .dataframe thead th {\n",
              "        text-align: right;\n",
              "    }\n",
              "</style>\n",
              "<table border=\"1\" class=\"dataframe\">\n",
              "  <thead>\n",
              "    <tr style=\"text-align: right;\">\n",
              "      <th></th>\n",
              "      <th>Clothing ID</th>\n",
              "      <th>Age</th>\n",
              "      <th>Title</th>\n",
              "      <th>Review</th>\n",
              "      <th>Rating</th>\n",
              "      <th>Recommended</th>\n",
              "      <th>Positive Feedback</th>\n",
              "      <th>Division</th>\n",
              "      <th>Department</th>\n",
              "      <th>Category</th>\n",
              "    </tr>\n",
              "  </thead>\n",
              "  <tbody>\n",
              "    <tr>\n",
              "      <th>0</th>\n",
              "      <td>767</td>\n",
              "      <td>33</td>\n",
              "      <td>NaN</td>\n",
              "      <td>Absolutely wonderful - silky and sexy and comf...</td>\n",
              "      <td>4</td>\n",
              "      <td>1</td>\n",
              "      <td>0</td>\n",
              "      <td>Initmates</td>\n",
              "      <td>Intimate</td>\n",
              "      <td>Intimates</td>\n",
              "    </tr>\n",
              "    <tr>\n",
              "      <th>1</th>\n",
              "      <td>1080</td>\n",
              "      <td>34</td>\n",
              "      <td>NaN</td>\n",
              "      <td>Love this dress!  it's sooo pretty.  i happene...</td>\n",
              "      <td>5</td>\n",
              "      <td>1</td>\n",
              "      <td>4</td>\n",
              "      <td>General</td>\n",
              "      <td>Dresses</td>\n",
              "      <td>Dresses</td>\n",
              "    </tr>\n",
              "    <tr>\n",
              "      <th>2</th>\n",
              "      <td>1077</td>\n",
              "      <td>60</td>\n",
              "      <td>Some major design flaws</td>\n",
              "      <td>I had such high hopes for this dress and reall...</td>\n",
              "      <td>3</td>\n",
              "      <td>0</td>\n",
              "      <td>0</td>\n",
              "      <td>General</td>\n",
              "      <td>Dresses</td>\n",
              "      <td>Dresses</td>\n",
              "    </tr>\n",
              "    <tr>\n",
              "      <th>3</th>\n",
              "      <td>1049</td>\n",
              "      <td>50</td>\n",
              "      <td>My favorite buy!</td>\n",
              "      <td>I love, love, love this jumpsuit. it's fun, fl...</td>\n",
              "      <td>5</td>\n",
              "      <td>1</td>\n",
              "      <td>0</td>\n",
              "      <td>General Petite</td>\n",
              "      <td>Bottoms</td>\n",
              "      <td>Pants</td>\n",
              "    </tr>\n",
              "    <tr>\n",
              "      <th>4</th>\n",
              "      <td>847</td>\n",
              "      <td>47</td>\n",
              "      <td>Flattering shirt</td>\n",
              "      <td>This shirt is very flattering to all due to th...</td>\n",
              "      <td>5</td>\n",
              "      <td>1</td>\n",
              "      <td>6</td>\n",
              "      <td>General</td>\n",
              "      <td>Tops</td>\n",
              "      <td>Blouses</td>\n",
              "    </tr>\n",
              "  </tbody>\n",
              "</table>\n",
              "</div>\n",
              "    <div class=\"colab-df-buttons\">\n",
              "\n",
              "  <div class=\"colab-df-container\">\n",
              "    <button class=\"colab-df-convert\" onclick=\"convertToInteractive('df-68c66deb-e80b-42c4-a08b-a21b2543f3f6')\"\n",
              "            title=\"Convert this dataframe to an interactive table.\"\n",
              "            style=\"display:none;\">\n",
              "\n",
              "  <svg xmlns=\"http://www.w3.org/2000/svg\" height=\"24px\" viewBox=\"0 -960 960 960\">\n",
              "    <path d=\"M120-120v-720h720v720H120Zm60-500h600v-160H180v160Zm220 220h160v-160H400v160Zm0 220h160v-160H400v160ZM180-400h160v-160H180v160Zm440 0h160v-160H620v160ZM180-180h160v-160H180v160Zm440 0h160v-160H620v160Z\"/>\n",
              "  </svg>\n",
              "    </button>\n",
              "\n",
              "  <style>\n",
              "    .colab-df-container {\n",
              "      display:flex;\n",
              "      gap: 12px;\n",
              "    }\n",
              "\n",
              "    .colab-df-convert {\n",
              "      background-color: #E8F0FE;\n",
              "      border: none;\n",
              "      border-radius: 50%;\n",
              "      cursor: pointer;\n",
              "      display: none;\n",
              "      fill: #1967D2;\n",
              "      height: 32px;\n",
              "      padding: 0 0 0 0;\n",
              "      width: 32px;\n",
              "    }\n",
              "\n",
              "    .colab-df-convert:hover {\n",
              "      background-color: #E2EBFA;\n",
              "      box-shadow: 0px 1px 2px rgba(60, 64, 67, 0.3), 0px 1px 3px 1px rgba(60, 64, 67, 0.15);\n",
              "      fill: #174EA6;\n",
              "    }\n",
              "\n",
              "    .colab-df-buttons div {\n",
              "      margin-bottom: 4px;\n",
              "    }\n",
              "\n",
              "    [theme=dark] .colab-df-convert {\n",
              "      background-color: #3B4455;\n",
              "      fill: #D2E3FC;\n",
              "    }\n",
              "\n",
              "    [theme=dark] .colab-df-convert:hover {\n",
              "      background-color: #434B5C;\n",
              "      box-shadow: 0px 1px 3px 1px rgba(0, 0, 0, 0.15);\n",
              "      filter: drop-shadow(0px 1px 2px rgba(0, 0, 0, 0.3));\n",
              "      fill: #FFFFFF;\n",
              "    }\n",
              "  </style>\n",
              "\n",
              "    <script>\n",
              "      const buttonEl =\n",
              "        document.querySelector('#df-68c66deb-e80b-42c4-a08b-a21b2543f3f6 button.colab-df-convert');\n",
              "      buttonEl.style.display =\n",
              "        google.colab.kernel.accessAllowed ? 'block' : 'none';\n",
              "\n",
              "      async function convertToInteractive(key) {\n",
              "        const element = document.querySelector('#df-68c66deb-e80b-42c4-a08b-a21b2543f3f6');\n",
              "        const dataTable =\n",
              "          await google.colab.kernel.invokeFunction('convertToInteractive',\n",
              "                                                    [key], {});\n",
              "        if (!dataTable) return;\n",
              "\n",
              "        const docLinkHtml = 'Like what you see? Visit the ' +\n",
              "          '<a target=\"_blank\" href=https://colab.research.google.com/notebooks/data_table.ipynb>data table notebook</a>'\n",
              "          + ' to learn more about interactive tables.';\n",
              "        element.innerHTML = '';\n",
              "        dataTable['output_type'] = 'display_data';\n",
              "        await google.colab.output.renderOutput(dataTable, element);\n",
              "        const docLink = document.createElement('div');\n",
              "        docLink.innerHTML = docLinkHtml;\n",
              "        element.appendChild(docLink);\n",
              "      }\n",
              "    </script>\n",
              "  </div>\n",
              "\n",
              "\n",
              "<div id=\"df-47f876e6-f64e-47d6-987c-ea41b8384edd\">\n",
              "  <button class=\"colab-df-quickchart\" onclick=\"quickchart('df-47f876e6-f64e-47d6-987c-ea41b8384edd')\"\n",
              "            title=\"Suggest charts\"\n",
              "            style=\"display:none;\">\n",
              "\n",
              "<svg xmlns=\"http://www.w3.org/2000/svg\" height=\"24px\"viewBox=\"0 0 24 24\"\n",
              "     width=\"24px\">\n",
              "    <g>\n",
              "        <path d=\"M19 3H5c-1.1 0-2 .9-2 2v14c0 1.1.9 2 2 2h14c1.1 0 2-.9 2-2V5c0-1.1-.9-2-2-2zM9 17H7v-7h2v7zm4 0h-2V7h2v10zm4 0h-2v-4h2v4z\"/>\n",
              "    </g>\n",
              "</svg>\n",
              "  </button>\n",
              "\n",
              "<style>\n",
              "  .colab-df-quickchart {\n",
              "      --bg-color: #E8F0FE;\n",
              "      --fill-color: #1967D2;\n",
              "      --hover-bg-color: #E2EBFA;\n",
              "      --hover-fill-color: #174EA6;\n",
              "      --disabled-fill-color: #AAA;\n",
              "      --disabled-bg-color: #DDD;\n",
              "  }\n",
              "\n",
              "  [theme=dark] .colab-df-quickchart {\n",
              "      --bg-color: #3B4455;\n",
              "      --fill-color: #D2E3FC;\n",
              "      --hover-bg-color: #434B5C;\n",
              "      --hover-fill-color: #FFFFFF;\n",
              "      --disabled-bg-color: #3B4455;\n",
              "      --disabled-fill-color: #666;\n",
              "  }\n",
              "\n",
              "  .colab-df-quickchart {\n",
              "    background-color: var(--bg-color);\n",
              "    border: none;\n",
              "    border-radius: 50%;\n",
              "    cursor: pointer;\n",
              "    display: none;\n",
              "    fill: var(--fill-color);\n",
              "    height: 32px;\n",
              "    padding: 0;\n",
              "    width: 32px;\n",
              "  }\n",
              "\n",
              "  .colab-df-quickchart:hover {\n",
              "    background-color: var(--hover-bg-color);\n",
              "    box-shadow: 0 1px 2px rgba(60, 64, 67, 0.3), 0 1px 3px 1px rgba(60, 64, 67, 0.15);\n",
              "    fill: var(--button-hover-fill-color);\n",
              "  }\n",
              "\n",
              "  .colab-df-quickchart-complete:disabled,\n",
              "  .colab-df-quickchart-complete:disabled:hover {\n",
              "    background-color: var(--disabled-bg-color);\n",
              "    fill: var(--disabled-fill-color);\n",
              "    box-shadow: none;\n",
              "  }\n",
              "\n",
              "  .colab-df-spinner {\n",
              "    border: 2px solid var(--fill-color);\n",
              "    border-color: transparent;\n",
              "    border-bottom-color: var(--fill-color);\n",
              "    animation:\n",
              "      spin 1s steps(1) infinite;\n",
              "  }\n",
              "\n",
              "  @keyframes spin {\n",
              "    0% {\n",
              "      border-color: transparent;\n",
              "      border-bottom-color: var(--fill-color);\n",
              "      border-left-color: var(--fill-color);\n",
              "    }\n",
              "    20% {\n",
              "      border-color: transparent;\n",
              "      border-left-color: var(--fill-color);\n",
              "      border-top-color: var(--fill-color);\n",
              "    }\n",
              "    30% {\n",
              "      border-color: transparent;\n",
              "      border-left-color: var(--fill-color);\n",
              "      border-top-color: var(--fill-color);\n",
              "      border-right-color: var(--fill-color);\n",
              "    }\n",
              "    40% {\n",
              "      border-color: transparent;\n",
              "      border-right-color: var(--fill-color);\n",
              "      border-top-color: var(--fill-color);\n",
              "    }\n",
              "    60% {\n",
              "      border-color: transparent;\n",
              "      border-right-color: var(--fill-color);\n",
              "    }\n",
              "    80% {\n",
              "      border-color: transparent;\n",
              "      border-right-color: var(--fill-color);\n",
              "      border-bottom-color: var(--fill-color);\n",
              "    }\n",
              "    90% {\n",
              "      border-color: transparent;\n",
              "      border-bottom-color: var(--fill-color);\n",
              "    }\n",
              "  }\n",
              "</style>\n",
              "\n",
              "  <script>\n",
              "    async function quickchart(key) {\n",
              "      const quickchartButtonEl =\n",
              "        document.querySelector('#' + key + ' button');\n",
              "      quickchartButtonEl.disabled = true;  // To prevent multiple clicks.\n",
              "      quickchartButtonEl.classList.add('colab-df-spinner');\n",
              "      try {\n",
              "        const charts = await google.colab.kernel.invokeFunction(\n",
              "            'suggestCharts', [key], {});\n",
              "      } catch (error) {\n",
              "        console.error('Error during call to suggestCharts:', error);\n",
              "      }\n",
              "      quickchartButtonEl.classList.remove('colab-df-spinner');\n",
              "      quickchartButtonEl.classList.add('colab-df-quickchart-complete');\n",
              "    }\n",
              "    (() => {\n",
              "      let quickchartButtonEl =\n",
              "        document.querySelector('#df-47f876e6-f64e-47d6-987c-ea41b8384edd button');\n",
              "      quickchartButtonEl.style.display =\n",
              "        google.colab.kernel.accessAllowed ? 'block' : 'none';\n",
              "    })();\n",
              "  </script>\n",
              "</div>\n",
              "\n",
              "    </div>\n",
              "  </div>\n"
            ],
            "application/vnd.google.colaboratory.intrinsic+json": {
              "type": "dataframe",
              "variable_name": "df",
              "summary": "{\n  \"name\": \"df\",\n  \"rows\": 23486,\n  \"fields\": [\n    {\n      \"column\": \"Clothing ID\",\n      \"properties\": {\n        \"dtype\": \"number\",\n        \"std\": 203,\n        \"min\": 0,\n        \"max\": 1205,\n        \"num_unique_values\": 1206,\n        \"samples\": [\n          835,\n          753,\n          93\n        ],\n        \"semantic_type\": \"\",\n        \"description\": \"\"\n      }\n    },\n    {\n      \"column\": \"Age\",\n      \"properties\": {\n        \"dtype\": \"number\",\n        \"std\": 12,\n        \"min\": 18,\n        \"max\": 99,\n        \"num_unique_values\": 77,\n        \"samples\": [\n          47,\n          62,\n          41\n        ],\n        \"semantic_type\": \"\",\n        \"description\": \"\"\n      }\n    },\n    {\n      \"column\": \"Title\",\n      \"properties\": {\n        \"dtype\": \"string\",\n        \"num_unique_values\": 13993,\n        \"samples\": [\n          \"Colorful, pretty shirt\",\n          \"Unique soft and comfy fall top\",\n          \"Great fitting jean.\"\n        ],\n        \"semantic_type\": \"\",\n        \"description\": \"\"\n      }\n    },\n    {\n      \"column\": \"Review\",\n      \"properties\": {\n        \"dtype\": \"string\",\n        \"num_unique_values\": 22634,\n        \"samples\": [\n          \"This top is really pretty and nice quality. runs big - i went down a size, and its perfect. coloring is more subtle in person than in the photo.\",\n          \"I was so excited to splurge on a mara hoffman suit and was sorely disappointed when i received this suit in the mail. i'm petite and fairly curvy, so i knew it would likely be a little long in the torso but the whole suit was so oddly shaped, i couldn't imagine anyone it would fit. the square shape in between the halter pieces is awkward, and the pieces that are supposed to hold your chest are super wide and loose.\",\n          \"Got so many complements! really comfy but runs big! i'm usually a large and i wish i had gotten the small.\"\n        ],\n        \"semantic_type\": \"\",\n        \"description\": \"\"\n      }\n    },\n    {\n      \"column\": \"Rating\",\n      \"properties\": {\n        \"dtype\": \"number\",\n        \"std\": 1,\n        \"min\": 1,\n        \"max\": 5,\n        \"num_unique_values\": 5,\n        \"samples\": [\n          5,\n          1,\n          3\n        ],\n        \"semantic_type\": \"\",\n        \"description\": \"\"\n      }\n    },\n    {\n      \"column\": \"Recommended\",\n      \"properties\": {\n        \"dtype\": \"number\",\n        \"std\": 0,\n        \"min\": 0,\n        \"max\": 1,\n        \"num_unique_values\": 2,\n        \"samples\": [\n          0,\n          1\n        ],\n        \"semantic_type\": \"\",\n        \"description\": \"\"\n      }\n    },\n    {\n      \"column\": \"Positive Feedback\",\n      \"properties\": {\n        \"dtype\": \"number\",\n        \"std\": 5,\n        \"min\": 0,\n        \"max\": 122,\n        \"num_unique_values\": 82,\n        \"samples\": [\n          21,\n          0\n        ],\n        \"semantic_type\": \"\",\n        \"description\": \"\"\n      }\n    },\n    {\n      \"column\": \"Division\",\n      \"properties\": {\n        \"dtype\": \"category\",\n        \"num_unique_values\": 3,\n        \"samples\": [\n          \"Initmates\",\n          \"General\"\n        ],\n        \"semantic_type\": \"\",\n        \"description\": \"\"\n      }\n    },\n    {\n      \"column\": \"Department\",\n      \"properties\": {\n        \"dtype\": \"category\",\n        \"num_unique_values\": 6,\n        \"samples\": [\n          \"Intimate\",\n          \"Dresses\"\n        ],\n        \"semantic_type\": \"\",\n        \"description\": \"\"\n      }\n    },\n    {\n      \"column\": \"Category\",\n      \"properties\": {\n        \"dtype\": \"category\",\n        \"num_unique_values\": 20,\n        \"samples\": [\n          \"Intimates\",\n          \"Layering\"\n        ],\n        \"semantic_type\": \"\",\n        \"description\": \"\"\n      }\n    }\n  ]\n}"
            }
          },
          "metadata": {},
          "execution_count": 3
        }
      ]
    },
    {
      "cell_type": "code",
      "source": [
        "df.info()"
      ],
      "metadata": {
        "execution": {
          "iopub.status.busy": "2023-07-15T13:49:35.670088Z",
          "iopub.execute_input": "2023-07-15T13:49:35.67114Z",
          "iopub.status.idle": "2023-07-15T13:49:35.707156Z",
          "shell.execute_reply.started": "2023-07-15T13:49:35.671098Z",
          "shell.execute_reply": "2023-07-15T13:49:35.705898Z"
        },
        "trusted": true,
        "id": "bqyUN6EQGNxr",
        "colab": {
          "base_uri": "https://localhost:8080/"
        },
        "outputId": "16874bdc-14d3-4178-94fa-e4f63d689027"
      },
      "execution_count": null,
      "outputs": [
        {
          "output_type": "stream",
          "name": "stdout",
          "text": [
            "<class 'pandas.core.frame.DataFrame'>\n",
            "RangeIndex: 23486 entries, 0 to 23485\n",
            "Data columns (total 10 columns):\n",
            " #   Column             Non-Null Count  Dtype \n",
            "---  ------             --------------  ----- \n",
            " 0   Clothing ID        23486 non-null  int64 \n",
            " 1   Age                23486 non-null  int64 \n",
            " 2   Title              19676 non-null  object\n",
            " 3   Review             22641 non-null  object\n",
            " 4   Rating             23486 non-null  int64 \n",
            " 5   Recommended        23486 non-null  int64 \n",
            " 6   Positive Feedback  23486 non-null  int64 \n",
            " 7   Division           23472 non-null  object\n",
            " 8   Department         23472 non-null  object\n",
            " 9   Category           23472 non-null  object\n",
            "dtypes: int64(5), object(5)\n",
            "memory usage: 1.8+ MB\n"
          ]
        }
      ]
    },
    {
      "cell_type": "code",
      "source": [
        "df.shape"
      ],
      "metadata": {
        "execution": {
          "iopub.status.busy": "2023-07-15T13:49:35.709053Z",
          "iopub.execute_input": "2023-07-15T13:49:35.70934Z",
          "iopub.status.idle": "2023-07-15T13:49:35.715013Z",
          "shell.execute_reply.started": "2023-07-15T13:49:35.709316Z",
          "shell.execute_reply": "2023-07-15T13:49:35.714182Z"
        },
        "trusted": true,
        "id": "Z_ys8oasGNxs",
        "colab": {
          "base_uri": "https://localhost:8080/"
        },
        "outputId": "0e7d2bd7-c38e-4d79-c98a-ce273a194aaf"
      },
      "execution_count": null,
      "outputs": [
        {
          "output_type": "execute_result",
          "data": {
            "text/plain": [
              "(23486, 10)"
            ]
          },
          "metadata": {},
          "execution_count": 5
        }
      ]
    },
    {
      "cell_type": "markdown",
      "source": [
        "### Data preprocessing\n",
        "\n",
        "Calling `isna()` method along with the `sum()` method on dataframe `df` to find the Review columns with no review text for further processing."
      ],
      "metadata": {
        "id": "Z4vvCJ1IGNxs"
      }
    },
    {
      "cell_type": "code",
      "source": [
        "df.isna().sum()"
      ],
      "metadata": {
        "execution": {
          "iopub.status.busy": "2023-07-15T13:49:35.716207Z",
          "iopub.execute_input": "2023-07-15T13:49:35.716481Z",
          "iopub.status.idle": "2023-07-15T13:49:35.750129Z",
          "shell.execute_reply.started": "2023-07-15T13:49:35.716459Z",
          "shell.execute_reply": "2023-07-15T13:49:35.748935Z"
        },
        "trusted": true,
        "id": "HuCr2TUOGNxs",
        "colab": {
          "base_uri": "https://localhost:8080/"
        },
        "outputId": "ef32ebc5-6451-4de6-b991-39104d3161b3"
      },
      "execution_count": null,
      "outputs": [
        {
          "output_type": "execute_result",
          "data": {
            "text/plain": [
              "Clothing ID             0\n",
              "Age                     0\n",
              "Title                3810\n",
              "Review                845\n",
              "Rating                  0\n",
              "Recommended             0\n",
              "Positive Feedback       0\n",
              "Division               14\n",
              "Department             14\n",
              "Category               14\n",
              "dtype: int64"
            ]
          },
          "metadata": {},
          "execution_count": 6
        }
      ]
    },
    {
      "cell_type": "markdown",
      "source": [
        "Filling missing values in the Review column with the value `No review is given`."
      ],
      "metadata": {
        "id": "Fuk3C2G9GNxs"
      }
    },
    {
      "cell_type": "code",
      "source": [
        "df[df['Review']==\"\"] = np.NaN\n",
        "df['Review'].fillna(\"No review is given\", inplace=True)\n",
        "df.isna().sum()"
      ],
      "metadata": {
        "execution": {
          "iopub.status.busy": "2023-07-15T13:49:35.751426Z",
          "iopub.execute_input": "2023-07-15T13:49:35.751788Z",
          "iopub.status.idle": "2023-07-15T13:49:35.786447Z",
          "shell.execute_reply.started": "2023-07-15T13:49:35.751762Z",
          "shell.execute_reply": "2023-07-15T13:49:35.785352Z"
        },
        "trusted": true,
        "id": "WyjU3MGIGNxt",
        "colab": {
          "base_uri": "https://localhost:8080/"
        },
        "outputId": "bf584500-f927-4340-b0a3-8b7c839cd4bf"
      },
      "execution_count": null,
      "outputs": [
        {
          "output_type": "execute_result",
          "data": {
            "text/plain": [
              "Clothing ID             0\n",
              "Age                     0\n",
              "Title                3810\n",
              "Review                  0\n",
              "Rating                  0\n",
              "Recommended             0\n",
              "Positive Feedback       0\n",
              "Division               14\n",
              "Department             14\n",
              "Category               14\n",
              "dtype: int64"
            ]
          },
          "metadata": {},
          "execution_count": 7
        }
      ]
    },
    {
      "cell_type": "code",
      "source": [
        "df['Review']"
      ],
      "metadata": {
        "execution": {
          "iopub.status.busy": "2023-07-15T13:49:35.787825Z",
          "iopub.execute_input": "2023-07-15T13:49:35.78819Z",
          "iopub.status.idle": "2023-07-15T13:49:35.796824Z",
          "shell.execute_reply.started": "2023-07-15T13:49:35.788159Z",
          "shell.execute_reply": "2023-07-15T13:49:35.795436Z"
        },
        "trusted": true,
        "id": "SEnwN-6WGNxt",
        "colab": {
          "base_uri": "https://localhost:8080/"
        },
        "outputId": "d08c1410-1b9e-4773-c057-fee5a76e1522"
      },
      "execution_count": null,
      "outputs": [
        {
          "output_type": "execute_result",
          "data": {
            "text/plain": [
              "0        Absolutely wonderful - silky and sexy and comf...\n",
              "1        Love this dress!  it's sooo pretty.  i happene...\n",
              "2        I had such high hopes for this dress and reall...\n",
              "3        I love, love, love this jumpsuit. it's fun, fl...\n",
              "4        This shirt is very flattering to all due to th...\n",
              "                               ...                        \n",
              "23481    I was very happy to snag this dress at such a ...\n",
              "23482    It reminds me of maternity clothes. soft, stre...\n",
              "23483    This fit well, but the top was very see throug...\n",
              "23484    I bought this dress for a wedding i have this ...\n",
              "23485    This dress in a lovely platinum is feminine an...\n",
              "Name: Review, Length: 23486, dtype: object"
            ]
          },
          "metadata": {},
          "execution_count": 8
        }
      ]
    },
    {
      "cell_type": "markdown",
      "source": [
        "### Defining Target Variable (y) and Feature Variables (X)"
      ],
      "metadata": {
        "id": "YJkTa2QgGNxt"
      }
    },
    {
      "cell_type": "code",
      "source": [
        "df.columns"
      ],
      "metadata": {
        "execution": {
          "iopub.status.busy": "2023-07-15T13:49:35.798623Z",
          "iopub.execute_input": "2023-07-15T13:49:35.798951Z",
          "iopub.status.idle": "2023-07-15T13:49:35.810044Z",
          "shell.execute_reply.started": "2023-07-15T13:49:35.798928Z",
          "shell.execute_reply": "2023-07-15T13:49:35.808387Z"
        },
        "trusted": true,
        "id": "6pgsPm3aGNxt",
        "colab": {
          "base_uri": "https://localhost:8080/"
        },
        "outputId": "1035f921-b978-4622-d5e8-66142331d3b5"
      },
      "execution_count": null,
      "outputs": [
        {
          "output_type": "execute_result",
          "data": {
            "text/plain": [
              "Index(['Clothing ID', 'Age', 'Title', 'Review', 'Rating', 'Recommended',\n",
              "       'Positive Feedback', 'Division', 'Department', 'Category'],\n",
              "      dtype='object')"
            ]
          },
          "metadata": {},
          "execution_count": 9
        }
      ]
    },
    {
      "cell_type": "code",
      "source": [
        "x = df['Review']\n",
        "y = df['Rating']\n",
        "df['Rating'].value_counts()"
      ],
      "metadata": {
        "execution": {
          "iopub.status.busy": "2023-07-15T13:49:35.811473Z",
          "iopub.execute_input": "2023-07-15T13:49:35.811832Z",
          "iopub.status.idle": "2023-07-15T13:49:35.826654Z",
          "shell.execute_reply.started": "2023-07-15T13:49:35.811805Z",
          "shell.execute_reply": "2023-07-15T13:49:35.825598Z"
        },
        "trusted": true,
        "id": "MJRc-5ZdGNxu",
        "colab": {
          "base_uri": "https://localhost:8080/"
        },
        "outputId": "0d550620-3700-4c4b-aab1-f5ff0c9b2ab0"
      },
      "execution_count": null,
      "outputs": [
        {
          "output_type": "execute_result",
          "data": {
            "text/plain": [
              "Rating\n",
              "5    13131\n",
              "4     5077\n",
              "3     2871\n",
              "2     1565\n",
              "1      842\n",
              "Name: count, dtype: int64"
            ]
          },
          "metadata": {},
          "execution_count": 10
        }
      ]
    },
    {
      "cell_type": "markdown",
      "source": [
        "### Train Test Split"
      ],
      "metadata": {
        "id": "DX2ps2w9GNxu"
      }
    },
    {
      "cell_type": "code",
      "source": [
        "from sklearn.model_selection import train_test_split\n",
        "\n",
        "x_train, x_test, y_train, y_test = train_test_split(x, y, train_size=0.7, stratify=y, random_state=2529)\n",
        "x_train.shape, x_test.shape, y_train.shape, y_test.shape"
      ],
      "metadata": {
        "execution": {
          "iopub.status.busy": "2023-07-15T13:49:35.831309Z",
          "iopub.execute_input": "2023-07-15T13:49:35.831609Z",
          "iopub.status.idle": "2023-07-15T13:49:35.850587Z",
          "shell.execute_reply.started": "2023-07-15T13:49:35.831587Z",
          "shell.execute_reply": "2023-07-15T13:49:35.8497Z"
        },
        "trusted": true,
        "id": "08UM94nlGNxu",
        "colab": {
          "base_uri": "https://localhost:8080/"
        },
        "outputId": "8b42c510-8b5f-41b5-8842-55da31b764f7"
      },
      "execution_count": null,
      "outputs": [
        {
          "output_type": "execute_result",
          "data": {
            "text/plain": [
              "((16440,), (7046,), (16440,), (7046,))"
            ]
          },
          "metadata": {},
          "execution_count": 11
        }
      ]
    },
    {
      "cell_type": "markdown",
      "source": [
        "### Getting Tokens from Feature Text\n",
        "\n",
        "Using `CountVectorizer` from sci-kit learn"
      ],
      "metadata": {
        "id": "Ra3D7dxmGNxu"
      }
    },
    {
      "cell_type": "code",
      "source": [
        "from sklearn.feature_extraction.text import CountVectorizer\n",
        "\n",
        "cv = CountVectorizer(lowercase=True, analyzer='word', ngram_range=(2, 3), stop_words='english', max_features=50000)\n",
        "x_train = cv.fit_transform(x_train)\n",
        "cv.get_feature_names_out()"
      ],
      "metadata": {
        "execution": {
          "iopub.status.busy": "2023-07-15T13:49:35.851636Z",
          "iopub.execute_input": "2023-07-15T13:49:35.852467Z",
          "iopub.status.idle": "2023-07-15T13:49:38.760046Z",
          "shell.execute_reply.started": "2023-07-15T13:49:35.852417Z",
          "shell.execute_reply": "2023-07-15T13:49:38.758694Z"
        },
        "trusted": true,
        "id": "Fotx3THIGNxv",
        "colab": {
          "base_uri": "https://localhost:8080/"
        },
        "outputId": "838c66e5-3482-4428-b1d0-0bb9408d36ad"
      },
      "execution_count": null,
      "outputs": [
        {
          "output_type": "execute_result",
          "data": {
            "text/plain": [
              "array(['00 big', '00 fits', '00 petite', ..., 'zipper zip',\n",
              "       'zippered pockets', 'zippers buttons'], dtype=object)"
            ]
          },
          "metadata": {},
          "execution_count": 12
        }
      ]
    },
    {
      "cell_type": "code",
      "source": [
        "x_train.toarray()"
      ],
      "metadata": {
        "execution": {
          "iopub.status.busy": "2023-07-15T13:49:38.761358Z",
          "iopub.execute_input": "2023-07-15T13:49:38.761731Z",
          "iopub.status.idle": "2023-07-15T13:49:38.989919Z",
          "shell.execute_reply.started": "2023-07-15T13:49:38.761703Z",
          "shell.execute_reply": "2023-07-15T13:49:38.988578Z"
        },
        "trusted": true,
        "id": "aa6VRXwvGNxv",
        "colab": {
          "base_uri": "https://localhost:8080/"
        },
        "outputId": "8f2c9de1-8b78-4d17-86d6-46ab2c8f1061"
      },
      "execution_count": null,
      "outputs": [
        {
          "output_type": "execute_result",
          "data": {
            "text/plain": [
              "array([[0, 0, 0, ..., 0, 0, 0],\n",
              "       [0, 0, 0, ..., 0, 0, 0],\n",
              "       [0, 0, 0, ..., 0, 0, 0],\n",
              "       ...,\n",
              "       [0, 0, 0, ..., 0, 0, 0],\n",
              "       [0, 0, 0, ..., 0, 0, 0],\n",
              "       [0, 0, 0, ..., 0, 0, 0]])"
            ]
          },
          "metadata": {},
          "execution_count": 13
        }
      ]
    },
    {
      "cell_type": "code",
      "source": [
        "x_test = cv.fit_transform(x_test)\n",
        "cv.get_feature_names_out()"
      ],
      "metadata": {
        "execution": {
          "iopub.status.busy": "2023-07-15T13:49:38.991254Z",
          "iopub.execute_input": "2023-07-15T13:49:38.991541Z",
          "iopub.status.idle": "2023-07-15T13:49:40.216407Z",
          "shell.execute_reply.started": "2023-07-15T13:49:38.991518Z",
          "shell.execute_reply": "2023-07-15T13:49:40.215259Z"
        },
        "trusted": true,
        "id": "dWUK4foFGNxv",
        "colab": {
          "base_uri": "https://localhost:8080/"
        },
        "outputId": "b417b045-8639-4c37-cb3e-92a8c794054f"
      },
      "execution_count": null,
      "outputs": [
        {
          "output_type": "execute_result",
          "data": {
            "text/plain": [
              "array(['00 24', '00 petite', '00 sold', ..., 'zipper split',\n",
              "       'zipper sturdy', 'zippers buttons'], dtype=object)"
            ]
          },
          "metadata": {},
          "execution_count": 14
        }
      ]
    },
    {
      "cell_type": "code",
      "source": [
        "x_test.toarray()"
      ],
      "metadata": {
        "execution": {
          "iopub.status.busy": "2023-07-15T13:49:40.217857Z",
          "iopub.execute_input": "2023-07-15T13:49:40.218125Z",
          "iopub.status.idle": "2023-07-15T13:49:40.31556Z",
          "shell.execute_reply.started": "2023-07-15T13:49:40.218103Z",
          "shell.execute_reply": "2023-07-15T13:49:40.314488Z"
        },
        "trusted": true,
        "id": "YY94fRB9GNxv",
        "colab": {
          "base_uri": "https://localhost:8080/"
        },
        "outputId": "6307068a-fa18-4ef8-8c28-3a502978a451"
      },
      "execution_count": null,
      "outputs": [
        {
          "output_type": "execute_result",
          "data": {
            "text/plain": [
              "array([[0, 0, 0, ..., 0, 0, 0],\n",
              "       [0, 0, 0, ..., 0, 0, 0],\n",
              "       [0, 0, 0, ..., 0, 0, 0],\n",
              "       ...,\n",
              "       [0, 0, 0, ..., 0, 0, 0],\n",
              "       [0, 0, 0, ..., 0, 0, 0],\n",
              "       [0, 0, 0, ..., 0, 0, 0]])"
            ]
          },
          "metadata": {},
          "execution_count": 15
        }
      ]
    },
    {
      "cell_type": "markdown",
      "source": [
        "### Model training\n",
        "\n",
        "Using Multinomial Naïve Bayes algorithm, which is implemented in sci-kit as `MultinomialNB`"
      ],
      "metadata": {
        "id": "BRdin8gXGNxw"
      }
    },
    {
      "cell_type": "code",
      "source": [
        "from sklearn.naive_bayes import MultinomialNB\n",
        "\n",
        "model = MultinomialNB()\n",
        "model.fit(x_train, y_train)"
      ],
      "metadata": {
        "execution": {
          "iopub.status.busy": "2023-07-15T13:49:40.317237Z",
          "iopub.execute_input": "2023-07-15T13:49:40.317552Z",
          "iopub.status.idle": "2023-07-15T13:49:40.337098Z",
          "shell.execute_reply.started": "2023-07-15T13:49:40.317523Z",
          "shell.execute_reply": "2023-07-15T13:49:40.336078Z"
        },
        "trusted": true,
        "id": "ERzeAF7XGNxw",
        "colab": {
          "base_uri": "https://localhost:8080/",
          "height": 74
        },
        "outputId": "a0aebbc1-7307-40fc-8a5b-97c821ffb057"
      },
      "execution_count": null,
      "outputs": [
        {
          "output_type": "execute_result",
          "data": {
            "text/plain": [
              "MultinomialNB()"
            ],
            "text/html": [
              "<style>#sk-container-id-1 {color: black;background-color: white;}#sk-container-id-1 pre{padding: 0;}#sk-container-id-1 div.sk-toggleable {background-color: white;}#sk-container-id-1 label.sk-toggleable__label {cursor: pointer;display: block;width: 100%;margin-bottom: 0;padding: 0.3em;box-sizing: border-box;text-align: center;}#sk-container-id-1 label.sk-toggleable__label-arrow:before {content: \"▸\";float: left;margin-right: 0.25em;color: #696969;}#sk-container-id-1 label.sk-toggleable__label-arrow:hover:before {color: black;}#sk-container-id-1 div.sk-estimator:hover label.sk-toggleable__label-arrow:before {color: black;}#sk-container-id-1 div.sk-toggleable__content {max-height: 0;max-width: 0;overflow: hidden;text-align: left;background-color: #f0f8ff;}#sk-container-id-1 div.sk-toggleable__content pre {margin: 0.2em;color: black;border-radius: 0.25em;background-color: #f0f8ff;}#sk-container-id-1 input.sk-toggleable__control:checked~div.sk-toggleable__content {max-height: 200px;max-width: 100%;overflow: auto;}#sk-container-id-1 input.sk-toggleable__control:checked~label.sk-toggleable__label-arrow:before {content: \"▾\";}#sk-container-id-1 div.sk-estimator input.sk-toggleable__control:checked~label.sk-toggleable__label {background-color: #d4ebff;}#sk-container-id-1 div.sk-label input.sk-toggleable__control:checked~label.sk-toggleable__label {background-color: #d4ebff;}#sk-container-id-1 input.sk-hidden--visually {border: 0;clip: rect(1px 1px 1px 1px);clip: rect(1px, 1px, 1px, 1px);height: 1px;margin: -1px;overflow: hidden;padding: 0;position: absolute;width: 1px;}#sk-container-id-1 div.sk-estimator {font-family: monospace;background-color: #f0f8ff;border: 1px dotted black;border-radius: 0.25em;box-sizing: border-box;margin-bottom: 0.5em;}#sk-container-id-1 div.sk-estimator:hover {background-color: #d4ebff;}#sk-container-id-1 div.sk-parallel-item::after {content: \"\";width: 100%;border-bottom: 1px solid gray;flex-grow: 1;}#sk-container-id-1 div.sk-label:hover label.sk-toggleable__label {background-color: #d4ebff;}#sk-container-id-1 div.sk-serial::before {content: \"\";position: absolute;border-left: 1px solid gray;box-sizing: border-box;top: 0;bottom: 0;left: 50%;z-index: 0;}#sk-container-id-1 div.sk-serial {display: flex;flex-direction: column;align-items: center;background-color: white;padding-right: 0.2em;padding-left: 0.2em;position: relative;}#sk-container-id-1 div.sk-item {position: relative;z-index: 1;}#sk-container-id-1 div.sk-parallel {display: flex;align-items: stretch;justify-content: center;background-color: white;position: relative;}#sk-container-id-1 div.sk-item::before, #sk-container-id-1 div.sk-parallel-item::before {content: \"\";position: absolute;border-left: 1px solid gray;box-sizing: border-box;top: 0;bottom: 0;left: 50%;z-index: -1;}#sk-container-id-1 div.sk-parallel-item {display: flex;flex-direction: column;z-index: 1;position: relative;background-color: white;}#sk-container-id-1 div.sk-parallel-item:first-child::after {align-self: flex-end;width: 50%;}#sk-container-id-1 div.sk-parallel-item:last-child::after {align-self: flex-start;width: 50%;}#sk-container-id-1 div.sk-parallel-item:only-child::after {width: 0;}#sk-container-id-1 div.sk-dashed-wrapped {border: 1px dashed gray;margin: 0 0.4em 0.5em 0.4em;box-sizing: border-box;padding-bottom: 0.4em;background-color: white;}#sk-container-id-1 div.sk-label label {font-family: monospace;font-weight: bold;display: inline-block;line-height: 1.2em;}#sk-container-id-1 div.sk-label-container {text-align: center;}#sk-container-id-1 div.sk-container {/* jupyter's `normalize.less` sets `[hidden] { display: none; }` but bootstrap.min.css set `[hidden] { display: none !important; }` so we also need the `!important` here to be able to override the default hidden behavior on the sphinx rendered scikit-learn.org. See: https://github.com/scikit-learn/scikit-learn/issues/21755 */display: inline-block !important;position: relative;}#sk-container-id-1 div.sk-text-repr-fallback {display: none;}</style><div id=\"sk-container-id-1\" class=\"sk-top-container\"><div class=\"sk-text-repr-fallback\"><pre>MultinomialNB()</pre><b>In a Jupyter environment, please rerun this cell to show the HTML representation or trust the notebook. <br />On GitHub, the HTML representation is unable to render, please try loading this page with nbviewer.org.</b></div><div class=\"sk-container\" hidden><div class=\"sk-item\"><div class=\"sk-estimator sk-toggleable\"><input class=\"sk-toggleable__control sk-hidden--visually\" id=\"sk-estimator-id-1\" type=\"checkbox\" checked><label for=\"sk-estimator-id-1\" class=\"sk-toggleable__label sk-toggleable__label-arrow\">MultinomialNB</label><div class=\"sk-toggleable__content\"><pre>MultinomialNB()</pre></div></div></div></div></div>"
            ]
          },
          "metadata": {},
          "execution_count": 16
        }
      ]
    },
    {
      "cell_type": "markdown",
      "source": [
        "### Model prediction"
      ],
      "metadata": {
        "id": "L4WWFLHBGNxy"
      }
    },
    {
      "cell_type": "code",
      "source": [
        "y_pred = model.predict(x_test)\n",
        "y_pred.shape"
      ],
      "metadata": {
        "execution": {
          "iopub.status.busy": "2023-07-15T13:49:40.338246Z",
          "iopub.execute_input": "2023-07-15T13:49:40.338513Z",
          "iopub.status.idle": "2023-07-15T13:49:40.349496Z",
          "shell.execute_reply.started": "2023-07-15T13:49:40.338491Z",
          "shell.execute_reply": "2023-07-15T13:49:40.348398Z"
        },
        "trusted": true,
        "id": "hec6QVWtGNxy",
        "colab": {
          "base_uri": "https://localhost:8080/"
        },
        "outputId": "1110105c-113e-4e3f-8b87-7b2e1d1d4a22"
      },
      "execution_count": null,
      "outputs": [
        {
          "output_type": "execute_result",
          "data": {
            "text/plain": [
              "(7046,)"
            ]
          },
          "metadata": {},
          "execution_count": 17
        }
      ]
    },
    {
      "cell_type": "code",
      "source": [
        "y_pred"
      ],
      "metadata": {
        "execution": {
          "iopub.status.busy": "2023-07-15T13:49:40.350681Z",
          "iopub.execute_input": "2023-07-15T13:49:40.351062Z",
          "iopub.status.idle": "2023-07-15T13:49:40.358835Z",
          "shell.execute_reply.started": "2023-07-15T13:49:40.351037Z",
          "shell.execute_reply": "2023-07-15T13:49:40.35761Z"
        },
        "trusted": true,
        "id": "b2JGiluIGNxz",
        "colab": {
          "base_uri": "https://localhost:8080/"
        },
        "outputId": "330670be-daec-4c9f-f43e-69a9ecb7f288"
      },
      "execution_count": null,
      "outputs": [
        {
          "output_type": "execute_result",
          "data": {
            "text/plain": [
              "array([1, 2, 5, ..., 4, 3, 1])"
            ]
          },
          "metadata": {},
          "execution_count": 18
        }
      ]
    },
    {
      "cell_type": "markdown",
      "source": [
        "Getting probability of each predicted class"
      ],
      "metadata": {
        "id": "wmxrf4eYGNxz"
      }
    },
    {
      "cell_type": "code",
      "source": [
        "model.predict_proba(x_test)"
      ],
      "metadata": {
        "execution": {
          "iopub.status.busy": "2023-07-15T13:49:40.36038Z",
          "iopub.execute_input": "2023-07-15T13:49:40.361373Z",
          "iopub.status.idle": "2023-07-15T13:49:40.375022Z",
          "shell.execute_reply.started": "2023-07-15T13:49:40.361312Z",
          "shell.execute_reply": "2023-07-15T13:49:40.37395Z"
        },
        "trusted": true,
        "id": "ry_2ZUMJGNxz",
        "colab": {
          "base_uri": "https://localhost:8080/"
        },
        "outputId": "5c581917-fb3b-4618-8009-c37a56467a5b"
      },
      "execution_count": null,
      "outputs": [
        {
          "output_type": "execute_result",
          "data": {
            "text/plain": [
              "array([[0.45433767, 0.08215679, 0.44111678, 0.00904855, 0.01334022],\n",
              "       [0.08538546, 0.53197259, 0.36096501, 0.00370374, 0.01797319],\n",
              "       [0.04978519, 0.07954803, 0.11784385, 0.31199241, 0.44083052],\n",
              "       ...,\n",
              "       [0.07871327, 0.0343138 , 0.02156397, 0.8608945 , 0.00451447],\n",
              "       [0.09545745, 0.00239741, 0.84956399, 0.01241549, 0.04016567],\n",
              "       [0.65456291, 0.01868614, 0.14266667, 0.04591333, 0.13817096]])"
            ]
          },
          "metadata": {},
          "execution_count": 19
        }
      ]
    },
    {
      "cell_type": "markdown",
      "source": [
        "### Model evaluation"
      ],
      "metadata": {
        "id": "0UWVNDR8GNxz"
      }
    },
    {
      "cell_type": "code",
      "source": [
        "from sklearn.metrics import confusion_matrix, classification_report\n",
        "\n",
        "print(confusion_matrix(y_test, y_pred))"
      ],
      "metadata": {
        "execution": {
          "iopub.status.busy": "2023-07-15T13:49:40.376932Z",
          "iopub.execute_input": "2023-07-15T13:49:40.377285Z",
          "iopub.status.idle": "2023-07-15T13:49:40.389832Z",
          "shell.execute_reply.started": "2023-07-15T13:49:40.377254Z",
          "shell.execute_reply": "2023-07-15T13:49:40.388065Z"
        },
        "trusted": true,
        "id": "oeqqWAWRGNx0",
        "colab": {
          "base_uri": "https://localhost:8080/"
        },
        "outputId": "f13f36f4-cdcd-4034-a978-6fbb90b85497"
      },
      "execution_count": null,
      "outputs": [
        {
          "output_type": "stream",
          "name": "stdout",
          "text": [
            "[[  65   41   46   37   64]\n",
            " [ 158   75   57   80  100]\n",
            " [ 280  176  138  115  152]\n",
            " [ 539  297  217  201  269]\n",
            " [1237  777  619  533  773]]\n"
          ]
        }
      ]
    },
    {
      "cell_type": "code",
      "source": [
        "print(classification_report(y_test, y_pred))"
      ],
      "metadata": {
        "execution": {
          "iopub.status.busy": "2023-07-15T13:49:40.391352Z",
          "iopub.execute_input": "2023-07-15T13:49:40.391778Z",
          "iopub.status.idle": "2023-07-15T13:49:40.416816Z",
          "shell.execute_reply.started": "2023-07-15T13:49:40.391753Z",
          "shell.execute_reply": "2023-07-15T13:49:40.415673Z"
        },
        "trusted": true,
        "id": "tlDqiYHkGNx0",
        "colab": {
          "base_uri": "https://localhost:8080/"
        },
        "outputId": "039d8446-c7ba-4c0b-fa76-95c995824467"
      },
      "execution_count": null,
      "outputs": [
        {
          "output_type": "stream",
          "name": "stdout",
          "text": [
            "              precision    recall  f1-score   support\n",
            "\n",
            "           1       0.03      0.26      0.05       253\n",
            "           2       0.05      0.16      0.08       470\n",
            "           3       0.13      0.16      0.14       861\n",
            "           4       0.21      0.13      0.16      1523\n",
            "           5       0.57      0.20      0.29      3939\n",
            "\n",
            "    accuracy                           0.18      7046\n",
            "   macro avg       0.20      0.18      0.15      7046\n",
            "weighted avg       0.38      0.18      0.22      7046\n",
            "\n"
          ]
        }
      ]
    },
    {
      "cell_type": "markdown",
      "source": [
        "### Recategorizing ratings as Poor (0) and Good (1)"
      ],
      "metadata": {
        "id": "Rt9jlwRVGNx0"
      }
    },
    {
      "cell_type": "code",
      "source": [
        "df[\"Rating\"].value_counts()"
      ],
      "metadata": {
        "execution": {
          "iopub.status.busy": "2023-07-15T13:49:40.417862Z",
          "iopub.execute_input": "2023-07-15T13:49:40.418113Z",
          "iopub.status.idle": "2023-07-15T13:49:40.427056Z",
          "shell.execute_reply.started": "2023-07-15T13:49:40.418091Z",
          "shell.execute_reply": "2023-07-15T13:49:40.425881Z"
        },
        "trusted": true,
        "id": "sHa0ytPPGNx0",
        "colab": {
          "base_uri": "https://localhost:8080/"
        },
        "outputId": "8695b3b4-9390-4605-da52-82688c48a8b0"
      },
      "execution_count": null,
      "outputs": [
        {
          "output_type": "execute_result",
          "data": {
            "text/plain": [
              "Rating\n",
              "5    13131\n",
              "4     5077\n",
              "3     2871\n",
              "2     1565\n",
              "1      842\n",
              "Name: count, dtype: int64"
            ]
          },
          "metadata": {},
          "execution_count": 22
        }
      ]
    },
    {
      "cell_type": "markdown",
      "source": [
        "re-rating 1,2,3 as 0 and 4,5 as 1"
      ],
      "metadata": {
        "id": "94sclvmfGNx1"
      }
    },
    {
      "cell_type": "code",
      "source": [
        "df.replace({'Rating': { 1:0, 2:0, 3:0, 4:1, 5:1 }}, inplace=True)\n",
        "y = df['Rating']\n",
        "x = df['Review']"
      ],
      "metadata": {
        "execution": {
          "iopub.status.busy": "2023-07-15T13:49:40.428796Z",
          "iopub.execute_input": "2023-07-15T13:49:40.429162Z",
          "iopub.status.idle": "2023-07-15T13:49:40.439923Z",
          "shell.execute_reply.started": "2023-07-15T13:49:40.429134Z",
          "shell.execute_reply": "2023-07-15T13:49:40.439043Z"
        },
        "trusted": true,
        "id": "NlgzR3EjGNx1"
      },
      "execution_count": null,
      "outputs": []
    },
    {
      "cell_type": "markdown",
      "source": [
        "### Train Test Split"
      ],
      "metadata": {
        "id": "jD7kAEvbGNx1"
      }
    },
    {
      "cell_type": "code",
      "source": [
        "from sklearn.model_selection import train_test_split\n",
        "\n",
        "x_train, x_test, y_train, y_test = train_test_split(x, y, train_size=0.7, stratify=y, random_state=2529)\n",
        "x_train.shape, x_test.shape, y_train.shape, y_test.shape"
      ],
      "metadata": {
        "execution": {
          "iopub.status.busy": "2023-07-15T13:49:40.441143Z",
          "iopub.execute_input": "2023-07-15T13:49:40.441977Z",
          "iopub.status.idle": "2023-07-15T13:49:40.462718Z",
          "shell.execute_reply.started": "2023-07-15T13:49:40.441953Z",
          "shell.execute_reply": "2023-07-15T13:49:40.46162Z"
        },
        "trusted": true,
        "id": "iDxvmgjyGNx6",
        "colab": {
          "base_uri": "https://localhost:8080/"
        },
        "outputId": "cb5c9321-0ea3-41a9-f6f3-716ad84b7aba"
      },
      "execution_count": null,
      "outputs": [
        {
          "output_type": "execute_result",
          "data": {
            "text/plain": [
              "((16440,), (7046,), (16440,), (7046,))"
            ]
          },
          "metadata": {},
          "execution_count": 24
        }
      ]
    },
    {
      "cell_type": "markdown",
      "source": [
        "### Getting Tokens from Feature Text"
      ],
      "metadata": {
        "id": "eOhZuqUCGNx6"
      }
    },
    {
      "cell_type": "code",
      "source": [
        "from sklearn.feature_extraction.text import CountVectorizer\n",
        "\n",
        "cv = CountVectorizer(lowercase=True, analyzer='word', ngram_range=(2, 3), stop_words='english', max_features=50000)\n",
        "x_train = cv.fit_transform(x_train)\n",
        "x_test = cv.fit_transform(x_test)"
      ],
      "metadata": {
        "execution": {
          "iopub.status.busy": "2023-07-15T13:49:40.46377Z",
          "iopub.execute_input": "2023-07-15T13:49:40.464072Z",
          "iopub.status.idle": "2023-07-15T13:49:44.56288Z",
          "shell.execute_reply.started": "2023-07-15T13:49:40.464049Z",
          "shell.execute_reply": "2023-07-15T13:49:44.561905Z"
        },
        "trusted": true,
        "id": "9NdGxBEuGNx6"
      },
      "execution_count": null,
      "outputs": []
    },
    {
      "cell_type": "markdown",
      "source": [
        "### Model re-training"
      ],
      "metadata": {
        "id": "gKpJBezcGNx6"
      }
    },
    {
      "cell_type": "code",
      "source": [
        "from sklearn.naive_bayes import MultinomialNB\n",
        "\n",
        "model = MultinomialNB()\n",
        "model.fit(x_train, y_train)"
      ],
      "metadata": {
        "execution": {
          "iopub.status.busy": "2023-07-15T13:49:44.564132Z",
          "iopub.execute_input": "2023-07-15T13:49:44.564393Z",
          "iopub.status.idle": "2023-07-15T13:49:44.579195Z",
          "shell.execute_reply.started": "2023-07-15T13:49:44.564371Z",
          "shell.execute_reply": "2023-07-15T13:49:44.578218Z"
        },
        "trusted": true,
        "id": "8g1S1gSYGNx7",
        "colab": {
          "base_uri": "https://localhost:8080/",
          "height": 74
        },
        "outputId": "9092558e-924a-4005-d476-78d4e7569dcf"
      },
      "execution_count": null,
      "outputs": [
        {
          "output_type": "execute_result",
          "data": {
            "text/plain": [
              "MultinomialNB()"
            ],
            "text/html": [
              "<style>#sk-container-id-2 {color: black;background-color: white;}#sk-container-id-2 pre{padding: 0;}#sk-container-id-2 div.sk-toggleable {background-color: white;}#sk-container-id-2 label.sk-toggleable__label {cursor: pointer;display: block;width: 100%;margin-bottom: 0;padding: 0.3em;box-sizing: border-box;text-align: center;}#sk-container-id-2 label.sk-toggleable__label-arrow:before {content: \"▸\";float: left;margin-right: 0.25em;color: #696969;}#sk-container-id-2 label.sk-toggleable__label-arrow:hover:before {color: black;}#sk-container-id-2 div.sk-estimator:hover label.sk-toggleable__label-arrow:before {color: black;}#sk-container-id-2 div.sk-toggleable__content {max-height: 0;max-width: 0;overflow: hidden;text-align: left;background-color: #f0f8ff;}#sk-container-id-2 div.sk-toggleable__content pre {margin: 0.2em;color: black;border-radius: 0.25em;background-color: #f0f8ff;}#sk-container-id-2 input.sk-toggleable__control:checked~div.sk-toggleable__content {max-height: 200px;max-width: 100%;overflow: auto;}#sk-container-id-2 input.sk-toggleable__control:checked~label.sk-toggleable__label-arrow:before {content: \"▾\";}#sk-container-id-2 div.sk-estimator input.sk-toggleable__control:checked~label.sk-toggleable__label {background-color: #d4ebff;}#sk-container-id-2 div.sk-label input.sk-toggleable__control:checked~label.sk-toggleable__label {background-color: #d4ebff;}#sk-container-id-2 input.sk-hidden--visually {border: 0;clip: rect(1px 1px 1px 1px);clip: rect(1px, 1px, 1px, 1px);height: 1px;margin: -1px;overflow: hidden;padding: 0;position: absolute;width: 1px;}#sk-container-id-2 div.sk-estimator {font-family: monospace;background-color: #f0f8ff;border: 1px dotted black;border-radius: 0.25em;box-sizing: border-box;margin-bottom: 0.5em;}#sk-container-id-2 div.sk-estimator:hover {background-color: #d4ebff;}#sk-container-id-2 div.sk-parallel-item::after {content: \"\";width: 100%;border-bottom: 1px solid gray;flex-grow: 1;}#sk-container-id-2 div.sk-label:hover label.sk-toggleable__label {background-color: #d4ebff;}#sk-container-id-2 div.sk-serial::before {content: \"\";position: absolute;border-left: 1px solid gray;box-sizing: border-box;top: 0;bottom: 0;left: 50%;z-index: 0;}#sk-container-id-2 div.sk-serial {display: flex;flex-direction: column;align-items: center;background-color: white;padding-right: 0.2em;padding-left: 0.2em;position: relative;}#sk-container-id-2 div.sk-item {position: relative;z-index: 1;}#sk-container-id-2 div.sk-parallel {display: flex;align-items: stretch;justify-content: center;background-color: white;position: relative;}#sk-container-id-2 div.sk-item::before, #sk-container-id-2 div.sk-parallel-item::before {content: \"\";position: absolute;border-left: 1px solid gray;box-sizing: border-box;top: 0;bottom: 0;left: 50%;z-index: -1;}#sk-container-id-2 div.sk-parallel-item {display: flex;flex-direction: column;z-index: 1;position: relative;background-color: white;}#sk-container-id-2 div.sk-parallel-item:first-child::after {align-self: flex-end;width: 50%;}#sk-container-id-2 div.sk-parallel-item:last-child::after {align-self: flex-start;width: 50%;}#sk-container-id-2 div.sk-parallel-item:only-child::after {width: 0;}#sk-container-id-2 div.sk-dashed-wrapped {border: 1px dashed gray;margin: 0 0.4em 0.5em 0.4em;box-sizing: border-box;padding-bottom: 0.4em;background-color: white;}#sk-container-id-2 div.sk-label label {font-family: monospace;font-weight: bold;display: inline-block;line-height: 1.2em;}#sk-container-id-2 div.sk-label-container {text-align: center;}#sk-container-id-2 div.sk-container {/* jupyter's `normalize.less` sets `[hidden] { display: none; }` but bootstrap.min.css set `[hidden] { display: none !important; }` so we also need the `!important` here to be able to override the default hidden behavior on the sphinx rendered scikit-learn.org. See: https://github.com/scikit-learn/scikit-learn/issues/21755 */display: inline-block !important;position: relative;}#sk-container-id-2 div.sk-text-repr-fallback {display: none;}</style><div id=\"sk-container-id-2\" class=\"sk-top-container\"><div class=\"sk-text-repr-fallback\"><pre>MultinomialNB()</pre><b>In a Jupyter environment, please rerun this cell to show the HTML representation or trust the notebook. <br />On GitHub, the HTML representation is unable to render, please try loading this page with nbviewer.org.</b></div><div class=\"sk-container\" hidden><div class=\"sk-item\"><div class=\"sk-estimator sk-toggleable\"><input class=\"sk-toggleable__control sk-hidden--visually\" id=\"sk-estimator-id-2\" type=\"checkbox\" checked><label for=\"sk-estimator-id-2\" class=\"sk-toggleable__label sk-toggleable__label-arrow\">MultinomialNB</label><div class=\"sk-toggleable__content\"><pre>MultinomialNB()</pre></div></div></div></div></div>"
            ]
          },
          "metadata": {},
          "execution_count": 26
        }
      ]
    },
    {
      "cell_type": "markdown",
      "source": [
        "### Model prediction"
      ],
      "metadata": {
        "id": "TBfNWxzgGNx7"
      }
    },
    {
      "cell_type": "code",
      "source": [
        "y_pred = model.predict(x_test)\n",
        "y_pred.shape"
      ],
      "metadata": {
        "execution": {
          "iopub.status.busy": "2023-07-15T13:49:44.581192Z",
          "iopub.execute_input": "2023-07-15T13:49:44.581505Z",
          "iopub.status.idle": "2023-07-15T13:49:44.589679Z",
          "shell.execute_reply.started": "2023-07-15T13:49:44.581478Z",
          "shell.execute_reply": "2023-07-15T13:49:44.588402Z"
        },
        "trusted": true,
        "id": "Fe8KK8emGNx7",
        "colab": {
          "base_uri": "https://localhost:8080/"
        },
        "outputId": "129b4558-97bf-4539-90fb-81f2b48e9131"
      },
      "execution_count": null,
      "outputs": [
        {
          "output_type": "execute_result",
          "data": {
            "text/plain": [
              "(7046,)"
            ]
          },
          "metadata": {},
          "execution_count": 27
        }
      ]
    },
    {
      "cell_type": "code",
      "source": [
        "y_pred"
      ],
      "metadata": {
        "execution": {
          "iopub.status.busy": "2023-07-15T13:49:44.591043Z",
          "iopub.execute_input": "2023-07-15T13:49:44.59139Z",
          "iopub.status.idle": "2023-07-15T13:49:44.599976Z",
          "shell.execute_reply.started": "2023-07-15T13:49:44.591366Z",
          "shell.execute_reply": "2023-07-15T13:49:44.598885Z"
        },
        "trusted": true,
        "id": "-w7vspb3GNx7",
        "colab": {
          "base_uri": "https://localhost:8080/"
        },
        "outputId": "ab7d3eeb-ae54-477d-a42e-fcb244f7bef0"
      },
      "execution_count": null,
      "outputs": [
        {
          "output_type": "execute_result",
          "data": {
            "text/plain": [
              "array([0, 0, 1, ..., 1, 1, 1])"
            ]
          },
          "metadata": {},
          "execution_count": 28
        }
      ]
    },
    {
      "cell_type": "markdown",
      "source": [
        "### Model evaluation"
      ],
      "metadata": {
        "id": "CmtVTuRDGNx8"
      }
    },
    {
      "cell_type": "code",
      "source": [
        "from sklearn.metrics import confusion_matrix, classification_report\n",
        "\n",
        "print(confusion_matrix(y_test, y_pred))"
      ],
      "metadata": {
        "execution": {
          "iopub.status.busy": "2023-07-15T13:49:44.603726Z",
          "iopub.execute_input": "2023-07-15T13:49:44.604791Z",
          "iopub.status.idle": "2023-07-15T13:49:44.617778Z",
          "shell.execute_reply.started": "2023-07-15T13:49:44.604765Z",
          "shell.execute_reply": "2023-07-15T13:49:44.616404Z"
        },
        "trusted": true,
        "id": "JvSr0H7MGNx8",
        "colab": {
          "base_uri": "https://localhost:8080/"
        },
        "outputId": "32cecbfd-fa2f-4903-b597-a78e77c5d608"
      },
      "execution_count": null,
      "outputs": [
        {
          "output_type": "stream",
          "name": "stdout",
          "text": [
            "[[ 712  871]\n",
            " [2643 2820]]\n"
          ]
        }
      ]
    },
    {
      "cell_type": "code",
      "source": [
        "print(classification_report(y_test, y_pred))"
      ],
      "metadata": {
        "execution": {
          "iopub.status.busy": "2023-07-15T13:49:44.619437Z",
          "iopub.execute_input": "2023-07-15T13:49:44.620489Z",
          "iopub.status.idle": "2023-07-15T13:49:44.643954Z",
          "shell.execute_reply.started": "2023-07-15T13:49:44.620447Z",
          "shell.execute_reply": "2023-07-15T13:49:44.642905Z"
        },
        "trusted": true,
        "id": "RsaEjYuxGNx8",
        "colab": {
          "base_uri": "https://localhost:8080/"
        },
        "outputId": "b87e9016-9ba7-46a4-bc46-f6d2109a6232"
      },
      "execution_count": null,
      "outputs": [
        {
          "output_type": "stream",
          "name": "stdout",
          "text": [
            "              precision    recall  f1-score   support\n",
            "\n",
            "           0       0.21      0.45      0.29      1583\n",
            "           1       0.76      0.52      0.62      5463\n",
            "\n",
            "    accuracy                           0.50      7046\n",
            "   macro avg       0.49      0.48      0.45      7046\n",
            "weighted avg       0.64      0.50      0.54      7046\n",
            "\n"
          ]
        }
      ]
    },
    {
      "cell_type": "markdown",
      "source": [
        "### Explanation\n",
        "\n",
        "This project is focused on building a prediction model. At first, the all required libraries and a test dataset are imported. The dataset was evaluated and pre processed to prepare for it for processing, then a portion of it was kept for testing and the rest was used to train the model. The model was used to get some prediction dataset. Finnaly, prediction accuracy was checked against the test dataset, some adjusment were made and the model was re-trained for better accuracy."
      ],
      "metadata": {
        "id": "zgxHSjF-GNx8"
      }
    }
  ]
}